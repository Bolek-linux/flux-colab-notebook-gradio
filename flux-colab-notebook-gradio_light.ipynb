# KROK 1: INSTALACJA I URUCHOMIENIE (WERSJA POPRAWIONA)

print("Aktualizowanie i instalowanie niezbędnych bibliotek...")
!pip install -q -U diffusers transformers accelerate bitsandbytes gradio
!apt -y install -qq aria2

print("Pobieranie modeli...")
LORA_DIR = "/content/models/loras"
!mkdir -p {LORA_DIR}
!aria2c --console-log-level=error -c -x 16 -s 16 -k 1M https://huggingface.co/camenduru/FLUX.1-dev/resolve/main/flux_realism_lora.safetensors -d {LORA_DIR} -o flux_realism_lora.safetensors

import torch
# ZMIANA: Dodano import dla samplera DPMSolverMultistepScheduler
from diffusers import DiffusionPipeline, DPMSolverMultistepScheduler
import gradio as gr
from PIL import Image
import random

print("Ładowanie modelu FLUX (może to chwilę potrwać)...")
pipe = DiffusionPipeline.from_pretrained(
    "black-forest-labs/FLUX.1-dev",
    torch_dtype=torch.bfloat16,
    load_in_4bit=True
)

# ZMIANA: Konfiguracja samplera, aby odpowiadał dpmpp_2m
print("Konfigurowanie samplera DPM++ 2M...")
pipe.scheduler = DPMSolverMultistepScheduler.from_config(pipe.scheduler.config)

print("Ładowanie LoRA...")
pipe.load_lora_weights(LORA_DIR, weight_name="flux_realism_lora.safetensors")


# ZMIANA: Funkcja generate przyjmuje teraz 'negative_prompt' i używa 'lora_scale'
def generate(positive_prompt, negative_prompt, width, height, seed, steps, guidance, lora_strength):
    if seed == 0:
        seed = random.randint(0, 2**32 - 1)
    print(f"Użyte ziarno (seed): {seed}")

    generator = torch.Generator("cuda").manual_seed(seed)

    image = pipe(
        prompt=positive_prompt,
        negative_prompt=negative_prompt,        # <-- ZMIANA: Dodano negative prompt
        width=width,
        height=height,
        num_inference_steps=steps,
        guidance_scale=guidance,
        generator=generator,
        lora_scale=lora_strength                # <-- ZMIANA: Poprawiono argument na 'lora_scale'
    ).images[0]

    return image


with gr.Blocks(analytics_enabled=False) as demo:
    with gr.Row():
        with gr.Column():
            positive_prompt = gr.Textbox(lines=3, interactive=True, value="A captivating, photorealistic image with RAW quality, cinematic grain, and eye-catching light. The scene features a 26-year-old hippie woman from 1966, radiating seductive, retro charm. She wears vibrant, psychedelic attire—a boldly patterned blouse with bell sleeves and a matching mini-skirt. Her long hair is styled in a classic '60s updo, accented with a headband, completing her look. Posing confidently in front of an orange american muscle car of 1960s, surrounded by industrial buildings on the seaport, her smile and gaze exude an irresistible allure. This image perfectly captures the essence of 1960s counterculture, blending nostalgia with timeless beauty. The shoot features vibrant colors, hyper-detailed dynamic style, with a glamorous and boudoir flair", label="Prompt")
            
            # ZMIANA: Dodano pole na Negative Prompt, wypełnione danymi z Civitai
            negative_prompt = gr.Textbox(lines=3, interactive=True, value="(deformed, distorted, disfigured:1.3), poorly drawn, bad anatomy, wrong anatomy, extra limb, missing limb, floating limbs, (mutated hands and fingers:1.4), disconnected limbs, mutation, mutated, ugly, disgusting, blurry, amputation", label="Negative Prompt")
            
            width = gr.Slider(minimum=256, maximum=2048, value=1024, step=16, label="width")
            height = gr.Slider(minimum=256, maximum=2048, value=1024, step=16, label="height")
            seed = gr.Slider(minimum=0, maximum=4294967295, value=425215417, step=1, label="seed (0=random)")
            steps = gr.Slider(minimum=4, maximum=50, value=30, step=1, label="steps")
            guidance = gr.Slider(minimum=0, maximum=20, value=5.0, step=0.5, label="CFG Scale / Guidance")
            lora_strength = gr.Slider(minimum=0, maximum=1, value=1.0, step=0.1, label="LoRA Strength")
            generate_button = gr.Button("Generate")
        with gr.Column():
            output_image = gr.Image(label="Generated image", interactive=False)

    # ZMIANA: Zaktualizowano listę wejść dla przycisku, aby zawierała 'negative_prompt'
    generate_button.click(fn=generate, inputs=[positive_prompt, negative_prompt, width, height, seed, steps, guidance, lora_strength], outputs=output_image)

print("\nUruchamiam interfejs Gradio...")
demo.queue().launch(inline=False, share=True, debug=True)
